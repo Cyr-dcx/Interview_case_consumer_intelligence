{
 "cells": [
  {
   "cell_type": "markdown",
   "id": "719001e0",
   "metadata": {},
   "source": [
    "# Features definition"
   ]
  },
  {
   "cell_type": "markdown",
   "id": "1f61e7af",
   "metadata": {},
   "source": [
    "<div class=\"alert alert-block alert-info\">\n",
    " <span style=\"font-family:Verdana\"> Those are the features we are going to compute throughout this notebook.</span>\n",
    "</div>"
   ]
  },
  {
   "cell_type": "markdown",
   "id": "144f6aa9",
   "metadata": {},
   "source": [
    "\n",
    "> <span style=\"font-family:Verdana\"> `client_id` : client id  \n",
    "`n_transactions` : total transactions per client  \n",
    "`total_amount_per_client` : total amount per client  \n",
    "`mean_amount_per_transac` : average amount per ticket per client  \n",
    "`total_product_per_client` : number of products per client  \n",
    "`mean_product_per_transac` : average number of products per ticket per client  \n",
    "`unique_product_per_ticket` : number of unique product per ticket per client  \n",
    "`product_cat` : number of categories the cliend has purchased in  </span>\n",
    "\n",
    "> <span style=\"font-family:Verdana\"> `n_store` : number of store where the client made a purchase  \n",
    "`client_type` : male, female, company  \n",
    "`zipcode` : first two digits of a zipcode  \n",
    "`client_presence` : number of month since the client's account creation date  \n",
    "`frequency_orders`: ratio of number of month with a transactions divided by presence of a client account  \n",
    "`n_month_transac` : number of months with a purchase made by the client  \n",
    "`recency` : number of month since the client last purchase  </span>\n",
    "\n",
    "> <span style=\"font-family:Verdana\"> For each time of the day (A), it is the number of transactions made by client during this time :  \n",
    "B = `['apres_midi','matin', 'midi', 'soir']`  </span>\n",
    "\n",
    "> <span style=\"font-family:Verdana\"> For each product category (B), it is the number of transactions made by client in one category :  \n",
    "C = `['Autres', 'Carrelage', 'Chauffage', 'Cuisine',  \n",
    "     'Dressing', 'Droguerie', 'Décoration', 'Electricité et domotique',  \n",
    "     'Jardin', 'Luminaires', 'Matériaux de construction', 'Menuiserie',  \n",
    "     'Outils', 'Peinture', 'Plomberie', 'Quincaillerie', 'Robinetterie',  \n",
    "     'Salle de bains', 'Terrasse']` </span>"
   ]
  },
  {
   "cell_type": "markdown",
   "id": "3c4ee3b9",
   "metadata": {},
   "source": [
    "# Basic imports"
   ]
  },
  {
   "cell_type": "code",
   "execution_count": 1,
   "id": "0f90cd5b",
   "metadata": {
    "ExecuteTime": {
     "end_time": "2022-03-25T15:41:34.313821Z",
     "start_time": "2022-03-25T15:41:31.115447Z"
    }
   },
   "outputs": [],
   "source": [
    "import pandas as pd\n",
    "import matplotlib.pyplot as plt\n",
    "import seaborn as sns\n",
    "import numpy as np\n",
    "import os\n",
    "import random"
   ]
  },
  {
   "cell_type": "code",
   "execution_count": 2,
   "id": "aca521df",
   "metadata": {
    "ExecuteTime": {
     "end_time": "2022-03-25T15:41:50.880838Z",
     "start_time": "2022-03-25T15:41:34.332026Z"
    }
   },
   "outputs": [],
   "source": [
    "path = '../data'\n",
    "transactions = pd.read_csv(os.path.join(path,'transactions_light.csv'))\n",
    "clients = pd.read_csv(os.path.join(path,'clients.csv'))\n",
    "products = pd.read_csv(os.path.join(path,'products.csv'))"
   ]
  },
  {
   "cell_type": "code",
   "execution_count": 3,
   "id": "511e0114",
   "metadata": {
    "ExecuteTime": {
     "end_time": "2022-03-25T15:41:50.905601Z",
     "start_time": "2022-03-25T15:41:50.889223Z"
    }
   },
   "outputs": [],
   "source": [
    "def df_optimized(df, verbose=True, **kwargs):\n",
    "    \"\"\"\n",
    "    Reduces size of dataframe by downcasting numeircal columns\n",
    "    :param df: input dataframe\n",
    "    :param verbose: print size reduction if set to True\n",
    "    :param kwargs:\n",
    "    :return: df optimized\n",
    "    \"\"\"\n",
    "    df_memory_before = df.memory_usage(deep=True).sum()/1_000_000\n",
    "    for col in df.columns:\n",
    "        if 'float' in str(df[col].dtypes) :\n",
    "            df[col] = pd.to_numeric(df[col],downcast='float')\n",
    "        elif 'int' in str(df[col].dtypes) :\n",
    "            df[col] = pd.to_numeric(df[col],downcast='integer')\n",
    "        if col == 'client_id':\n",
    "            df[col] = pd.to_numeric(df[col],downcast='integer')\n",
    "    df_memory_after = df.memory_usage(deep=True).sum()/1_000_000\n",
    "    memory_saved = round(((df_memory_before - df_memory_after)/ df_memory_before)*100,2)\n",
    "    \n",
    "    if verbose:\n",
    "        print(f\"final file memory : {round(df_memory_after,2)} MB\")\n",
    "        print(f\"memory saved : {memory_saved}%\")\n",
    "    \n",
    "    return df\n"
   ]
  },
  {
   "cell_type": "code",
   "execution_count": 4,
   "id": "e0086366",
   "metadata": {
    "ExecuteTime": {
     "end_time": "2022-03-25T15:42:03.590312Z",
     "start_time": "2022-03-25T15:41:50.918484Z"
    }
   },
   "outputs": [
    {
     "name": "stdout",
     "output_type": "stream",
     "text": [
      "final file memory : 1482.79 MB\n",
      "memory saved : 28.46%\n",
      "final file memory : 27.42 MB\n",
      "memory saved : 5.56%\n",
      "final file memory : 2.7 MB\n",
      "memory saved : 4.91%\n"
     ]
    }
   ],
   "source": [
    "transactions = df_optimized(transactions)\n",
    "clients = df_optimized(clients)\n",
    "products = df_optimized(products)"
   ]
  },
  {
   "cell_type": "markdown",
   "id": "0fccd8a3",
   "metadata": {},
   "source": [
    "# Clients"
   ]
  },
  {
   "cell_type": "code",
   "execution_count": 5,
   "id": "40cecee6",
   "metadata": {
    "ExecuteTime": {
     "end_time": "2022-03-25T15:42:03.604864Z",
     "start_time": "2022-03-25T15:42:03.594805Z"
    }
   },
   "outputs": [],
   "source": [
    "def over_rep(df,over_threshold=0.85,n_values=1):\n",
    "    \"\"\" function to drop columns with over represented value/category \n",
    "    :param df: input dataframe\n",
    "    :param over_threshold: ratio from which we consider it's too high of a representated value/category in the dataset\n",
    "    :param n_values: number of values, we want to sum and have their % of the whole dataframe\n",
    "    :return: df\n",
    "    \"\"\"\n",
    "    for col in df.columns:\n",
    "        if (df[col].value_counts().head(n_values)/df.shape[0]).sum() > over_threshold:\n",
    "            df = df.drop(col, axis=1)  \n",
    "    return df"
   ]
  },
  {
   "cell_type": "code",
   "execution_count": 6,
   "id": "14a1328e",
   "metadata": {
    "ExecuteTime": {
     "end_time": "2022-03-25T15:42:03.629724Z",
     "start_time": "2022-03-25T15:42:03.618393Z"
    }
   },
   "outputs": [],
   "source": [
    "def clean_nan(df,column_threshold=0.5,row_threshold=0.05):\n",
    "    \"\"\" function to drop columns with over represented value/category \n",
    "    :param df: input dataframe\n",
    "    :param na_threshold: ratio from which we consider it's too high of na in the dataset\n",
    "    :return: df\n",
    "    \"\"\"\n",
    "    for col in df.columns:\n",
    "        if df[col].isna().sum()/len(df) > column_threshold:\n",
    "            df = df.drop(col, axis=1)\n",
    "    for col in df.columns:\n",
    "        if df[col].isna().sum()/len(df) < row_threshold:\n",
    "            df = df.dropna()\n",
    "    for col in df.columns:\n",
    "        if df[col].isna().sum()/len(df) > row_threshold:\n",
    "            print(f\"a choice has to be made for column {col}\")\n",
    "        \n",
    "    return df"
   ]
  },
  {
   "cell_type": "code",
   "execution_count": 7,
   "id": "c1d46da7",
   "metadata": {
    "ExecuteTime": {
     "end_time": "2022-03-25T15:42:03.923628Z",
     "start_time": "2022-03-25T15:42:03.633774Z"
    }
   },
   "outputs": [],
   "source": [
    "clients = clean_nan(clients,column_threshold=0.5,row_threshold=0.05)\n",
    "clients = over_rep(clients,over_threshold=0.85,n_values=1)"
   ]
  },
  {
   "cell_type": "code",
   "execution_count": 8,
   "id": "73d9207a",
   "metadata": {
    "ExecuteTime": {
     "end_time": "2022-03-25T15:42:04.184941Z",
     "start_time": "2022-03-25T15:42:03.926503Z"
    }
   },
   "outputs": [
    {
     "name": "stdout",
     "output_type": "stream",
     "text": [
      "<class 'pandas.core.frame.DataFrame'>\n",
      "Int64Index: 134289 entries, 0 to 134485\n",
      "Data columns (total 4 columns):\n",
      " #   Column       Non-Null Count   Dtype         \n",
      "---  ------       --------------   -----         \n",
      " 0   client_id    134289 non-null  int32         \n",
      " 1   client_date  134289 non-null  datetime64[ns]\n",
      " 2   client_type  134289 non-null  object        \n",
      " 3   zipcode      134289 non-null  object        \n",
      "dtypes: datetime64[ns](1), int32(1), object(2)\n",
      "memory usage: 4.6+ MB\n"
     ]
    }
   ],
   "source": [
    "clients['client_date'] = pd.to_datetime(clients['client_date'],yearfirst=True)\n",
    "clients['zipcode'] = clients['zipcode'].astype(str).str.zfill(5).apply(lambda x : x[:2])\n",
    "clients.info()"
   ]
  },
  {
   "cell_type": "markdown",
   "id": "a8552758",
   "metadata": {},
   "source": [
    "# Products"
   ]
  },
  {
   "cell_type": "code",
   "execution_count": 9,
   "id": "3f1ff251",
   "metadata": {
    "ExecuteTime": {
     "end_time": "2022-03-25T15:42:04.206486Z",
     "start_time": "2022-03-25T15:42:04.187695Z"
    }
   },
   "outputs": [
    {
     "data": {
      "text/html": [
       "<div>\n",
       "<style scoped>\n",
       "    .dataframe tbody tr th:only-of-type {\n",
       "        vertical-align: middle;\n",
       "    }\n",
       "\n",
       "    .dataframe tbody tr th {\n",
       "        vertical-align: top;\n",
       "    }\n",
       "\n",
       "    .dataframe thead th {\n",
       "        text-align: right;\n",
       "    }\n",
       "</style>\n",
       "<table border=\"1\" class=\"dataframe\">\n",
       "  <thead>\n",
       "    <tr style=\"text-align: right;\">\n",
       "      <th></th>\n",
       "      <th>product_id</th>\n",
       "      <th>product_cat</th>\n",
       "    </tr>\n",
       "  </thead>\n",
       "  <tbody>\n",
       "    <tr>\n",
       "      <th>0</th>\n",
       "      <td>291680</td>\n",
       "      <td>Dressing</td>\n",
       "    </tr>\n",
       "    <tr>\n",
       "      <th>1</th>\n",
       "      <td>283879</td>\n",
       "      <td>Matériaux de construction</td>\n",
       "    </tr>\n",
       "    <tr>\n",
       "      <th>2</th>\n",
       "      <td>283878</td>\n",
       "      <td>Matériaux de construction</td>\n",
       "    </tr>\n",
       "    <tr>\n",
       "      <th>3</th>\n",
       "      <td>283877</td>\n",
       "      <td>Matériaux de construction</td>\n",
       "    </tr>\n",
       "    <tr>\n",
       "      <th>4</th>\n",
       "      <td>283876</td>\n",
       "      <td>Matériaux de construction</td>\n",
       "    </tr>\n",
       "  </tbody>\n",
       "</table>\n",
       "</div>"
      ],
      "text/plain": [
       "   product_id                product_cat\n",
       "0      291680                   Dressing\n",
       "1      283879  Matériaux de construction\n",
       "2      283878  Matériaux de construction\n",
       "3      283877  Matériaux de construction\n",
       "4      283876  Matériaux de construction"
      ]
     },
     "execution_count": 9,
     "metadata": {},
     "output_type": "execute_result"
    }
   ],
   "source": [
    "products.head()"
   ]
  },
  {
   "cell_type": "markdown",
   "id": "bd3797ec",
   "metadata": {},
   "source": [
    "# Transactions"
   ]
  },
  {
   "cell_type": "code",
   "execution_count": 10,
   "id": "44b07cea",
   "metadata": {
    "ExecuteTime": {
     "end_time": "2022-03-25T15:42:04.218451Z",
     "start_time": "2022-03-25T15:42:04.209354Z"
    }
   },
   "outputs": [],
   "source": [
    "def clean_data(df):\n",
    "    #replace infinite values\n",
    "    df.replace([np.inf, -np.inf], np.nan, inplace=True)\n",
    "    \n",
    "    # delete rows with NaN values\n",
    "    df.dropna(axis=0, how='any', inplace=True)\n",
    "    \n",
    "    # delete duplicates\n",
    "    df.drop_duplicates(inplace=True)\n",
    "    \n",
    "    #delete rows with 0 in column price_ttc\n",
    "    df = df[df.price_ttc != 0]\n",
    "    \n",
    "    return df"
   ]
  },
  {
   "cell_type": "code",
   "execution_count": 11,
   "id": "36251db7",
   "metadata": {
    "ExecuteTime": {
     "end_time": "2022-03-25T15:42:35.605581Z",
     "start_time": "2022-03-25T15:42:04.223265Z"
    }
   },
   "outputs": [],
   "source": [
    "transactions = clean_data(transactions)# transform date data \n",
    "transactions['date'] = pd.to_datetime(transactions['date'],yearfirst=True)"
   ]
  },
  {
   "cell_type": "markdown",
   "id": "24bdca88",
   "metadata": {},
   "source": [
    "## Features"
   ]
  },
  {
   "cell_type": "markdown",
   "id": "f11e119d",
   "metadata": {},
   "source": [
    "### transactions per client"
   ]
  },
  {
   "cell_type": "code",
   "execution_count": 12,
   "id": "cc54fd21",
   "metadata": {
    "ExecuteTime": {
     "end_time": "2022-03-25T15:43:14.436377Z",
     "start_time": "2022-03-25T15:42:35.627250Z"
    }
   },
   "outputs": [],
   "source": [
    "#total amount spend by client\n",
    "total_amount_per_client = transactions.groupby('client_id', as_index=False)['price_ttc'].sum()\n",
    "total_amount_per_client.columns = ['client_id','total_amount_per_client']\n",
    "\n",
    "#total products ordered by client\n",
    "total_products_per_client = transactions.groupby('client_id', as_index=False)['n_products'].sum()\n",
    "total_products_per_client.columns = ['client_id','total_product_per_client']\n",
    "\n",
    "#number of transations per client\n",
    "transac_per_client = transactions.groupby('client_id', as_index=False)['ticket_id'].nunique()\n",
    "transac_per_client.columns = ['client_id','n_transactions']\n",
    "\n",
    "# number of unique products in transaction per client\n",
    "unique_product_per_ticket = transactions.groupby(['client_id','ticket_id'], as_index=False)['product_id'].nunique()\n",
    "unique_product_per_ticket.columns = ['client_id','ticket_id','unique_product_per_ticket']\n",
    "unique_product_per_ticket = unique_product_per_ticket.groupby('client_id').agg({'unique_product_per_ticket':'mean'})\n",
    "\n",
    "\n",
    "#number of store where the client made their transactions\n",
    "n_store_per_client = transactions.groupby('client_id', as_index=False)['store_id'].nunique()\n",
    "n_store_per_client.columns = ['client_id','n_store']\n"
   ]
  },
  {
   "cell_type": "markdown",
   "id": "9d643193",
   "metadata": {},
   "source": [
    "### time features"
   ]
  },
  {
   "cell_type": "code",
   "execution_count": 13,
   "id": "e900c104",
   "metadata": {
    "ExecuteTime": {
     "end_time": "2022-03-25T15:43:24.215096Z",
     "start_time": "2022-03-25T15:43:14.439130Z"
    }
   },
   "outputs": [],
   "source": [
    "transactions['DoW'] = transactions['date'].dt.dayofweek\n",
    "\n",
    "client_first_purchase = transactions.groupby('client_id', as_index=False)['date'].min()\n",
    "client_first_purchase.columns = ['client_id','date_first_purchase']\n",
    "\n",
    "client_last_purchase = transactions.groupby('client_id', as_index=False)['date'].max()\n",
    "client_last_purchase.columns = ['client_id','date_last_purchase']\n",
    "\n",
    "# compute each distinct month of purchasing\n",
    "transactions['year_month'] = pd.to_datetime(transactions['date']).dt.to_period('M')\n",
    "\n",
    "# compute number of month with transactions to compute a coarse frequency\n",
    "months_with_transac = transactions.groupby('client_id', as_index=False)['year_month'].nunique().sort_values('year_month',ascending=False)\n",
    "months_with_transac.columns = ['client_id','n_month_transac']\n",
    "\n",
    "# define the last date present on the transactions file, \n",
    "# it will serve us as referencial to compute the client duration\n",
    "\n",
    "last_date = transactions.date.max()\n",
    "\n",
    "clients['client_presence'] =  (last_date - clients['client_date']) / np.timedelta64(24,'h') / 30.5\n"
   ]
  },
  {
   "cell_type": "markdown",
   "id": "e5996bb0",
   "metadata": {},
   "source": [
    "#### day of the week"
   ]
  },
  {
   "cell_type": "code",
   "execution_count": 14,
   "id": "157bbe37",
   "metadata": {
    "ExecuteTime": {
     "end_time": "2022-03-25T15:44:08.042179Z",
     "start_time": "2022-03-25T15:43:24.217833Z"
    }
   },
   "outputs": [],
   "source": [
    "dow = {0:'lundi',\n",
    "      1:'mardi',\n",
    "      2:'mercredi',\n",
    "      3:'jeudi',\n",
    "      4:'vendredi',\n",
    "      5:'samedi',\n",
    "      6:'dimanche'}\n",
    "transactions['DoW'] = transactions.DoW.map(dow)\n",
    "transaction_DoW = transactions.groupby(['client_id','ticket_id'])['DoW'].value_counts().unstack().fillna(0).reset_index()\n",
    "\n",
    "# we only want to count one transaction per day per client (and not the number of products bought during this moment)\n",
    "for col in [i for i in list(transaction_DoW.columns) if i != 'ticket_id' and i != 'client_id']:\n",
    "    transaction_DoW[col] = transaction_DoW[col].apply(lambda x: 1 if x >= 1 else 0)\n",
    "\n",
    "# we want to have the total of transactions made by day by the client\n",
    "transaction_DoW = transaction_DoW.groupby('client_id').agg({'lundi':'sum',\n",
    "                                               'mardi':'sum',\n",
    "                                               'mercredi':'sum',\n",
    "                                               'jeudi':'sum',\n",
    "                                                'vendredi':'sum',\n",
    "                                                'samedi':'sum',\n",
    "                                                'dimanche':'sum'}).reset_index()\n",
    "\n",
    "\n",
    "\n"
   ]
  },
  {
   "cell_type": "markdown",
   "id": "58ac5f9d",
   "metadata": {},
   "source": [
    "#### moment of purchasing"
   ]
  },
  {
   "cell_type": "code",
   "execution_count": 15,
   "id": "3725bdc3",
   "metadata": {
    "ExecuteTime": {
     "end_time": "2022-03-25T15:44:42.064575Z",
     "start_time": "2022-03-25T15:44:08.047056Z"
    }
   },
   "outputs": [],
   "source": [
    "############################################################################################\n",
    "#  We want to compute how many times a client has purchased during each moment of the day  #\n",
    "############################################################################################\n",
    "\n",
    "# transform hour into a categorical feature\n",
    "nuit = [i for i in range(5)] + [24]\n",
    "matin = [i for i in range(6,12)]\n",
    "midi = [i for i in range(12,15)]\n",
    "apres_midi = [i for i in range(15,19)]\n",
    "soir = [i for i in range(19,23)]\n",
    "jour_name = ['nuit','matin','midi','apres_midi','soir']\n",
    "jour_cat = [nuit,matin,midi,apres_midi,soir]\n",
    "hour_cat = {i : name for cat,name in zip(jour_cat,jour_name) for i in cat}\n",
    "\n",
    "# allows at each transaction a moment of day when the purchase occurs\n",
    "transactions['hour_cat'] = transactions.hour.map(hour_cat)\n",
    "\n",
    "# create a column by moment \n",
    "transaction_hour_cat = transactions.groupby(['client_id','ticket_id'])['hour_cat'].value_counts().unstack().fillna(0).reset_index()\n",
    "\n",
    "# reduce size of thoses columns\n",
    "for col in transaction_hour_cat.columns:\n",
    "    if 'float' in str(transaction_hour_cat[col].dtypes) :\n",
    "        transaction_hour_cat[col] = pd.to_numeric(transaction_hour_cat[col],downcast='integer')\n",
    "        \n",
    "# we only want to count one transaction per moment per client (and not the number of products bought during this moment)\n",
    "for col in [i for i in list(transaction_hour_cat.columns) if i != 'ticket_id' and i != 'client_id']:\n",
    "    transaction_hour_cat[col] = transaction_hour_cat[col].apply(lambda x: 1 if x >= 1 else 0)\n",
    "\n",
    "# we want to have the total of transactions made by moment by the client\n",
    "transaction_hour_cat = transaction_hour_cat.groupby('client_id').agg({'apres_midi':'sum',\n",
    "                                               'matin':'sum',\n",
    "                                               'midi':'sum',\n",
    "                                               'soir':'sum'}).reset_index()\n",
    "\n"
   ]
  },
  {
   "cell_type": "markdown",
   "id": "27d2ef09",
   "metadata": {},
   "source": [
    "### cat products"
   ]
  },
  {
   "cell_type": "code",
   "execution_count": 16,
   "id": "55670f56",
   "metadata": {
    "ExecuteTime": {
     "end_time": "2022-03-25T15:45:22.992377Z",
     "start_time": "2022-03-25T15:44:42.067599Z"
    }
   },
   "outputs": [],
   "source": [
    "###############################################################################################\n",
    "#  We want to compute how many times a client has purchased products in a specific category  ##\n",
    "###############################################################################################\n",
    "\n",
    "temp = transactions[['client_id','ticket_id','product_id']].merge(products, on='product_id')\n",
    "tp = temp.groupby(['client_id','ticket_id'], as_index=False)['product_cat'].nunique()\n",
    "cat_per_trans = tp.groupby('client_id', as_index=False).agg({'product_cat':'mean'})\n",
    "\n",
    "products_order_per_cat = temp.groupby(['client_id'])['product_cat'].value_counts().unstack().fillna(0)"
   ]
  },
  {
   "cell_type": "markdown",
   "id": "883d384d",
   "metadata": {},
   "source": [
    "<div class=\"alert alert-block alert-warning\">\n",
    "<span style=\"font-family:Verdana\"> Here we want to highlight the number of products bought by category vs in transaction_hour_cat where the focus is on the number of transactions made.</span>\n",
    "</div>"
   ]
  },
  {
   "cell_type": "markdown",
   "id": "207c3c5b",
   "metadata": {},
   "source": [
    "# Merge tables"
   ]
  },
  {
   "cell_type": "code",
   "execution_count": 17,
   "id": "151f19c9",
   "metadata": {
    "ExecuteTime": {
     "end_time": "2022-03-25T15:45:23.890528Z",
     "start_time": "2022-03-25T15:45:22.994952Z"
    }
   },
   "outputs": [],
   "source": [
    "#merge with amounts tables\n",
    "client_base = transac_per_client.merge(total_amount_per_client, how='inner')\n",
    "client_base['mean_amount_per_transac'] = client_base['total_amount_per_client'] / client_base['n_transactions']\n",
    "\n",
    "#merge with products tables\n",
    "client_base = client_base.merge(total_products_per_client, how='inner')\n",
    "client_base['mean_product_per_transac'] = client_base['total_product_per_client'] / client_base['n_transactions']\n",
    "\n",
    "client_base = client_base.merge(unique_product_per_ticket, on='client_id', how='inner')\n",
    "client_base = client_base.merge(cat_per_trans, on='client_id', how='inner')\n",
    "\n",
    "\n",
    "# merge with time features\n",
    "client_base = client_base.merge(n_store_per_client, how='inner')\\\n",
    "                         .merge(client_first_purchase, how='inner')\\\n",
    "                         .merge(client_last_purchase, how='inner')\\\n",
    "                         .merge(months_with_transac, how='inner')\n",
    "\n",
    "\n",
    "client_base = client_base.merge(clients, on='client_id', how='inner')\n",
    "\n",
    "# compute frequency ratio\n",
    "client_base['frequency_orders'] = round(client_base['n_month_transac'] / client_base['client_presence'],4)\n",
    "\n",
    "# compute recency\n",
    "client_base['recency'] = (last_date - client_base['date_last_purchase']) / np.timedelta64(24,'h') / 30.5\n",
    "client_base = client_base.drop(['client_date','date_first_purchase','date_last_purchase'], axis=1)\n",
    "\n",
    "# add time of the day columns\n",
    "client_base = client_base.merge(transaction_hour_cat, on='client_id', how='inner')\n",
    "\n",
    "# add day of the week columns\n",
    "client_base = client_base.merge(transaction_DoW, on='client_id', how='inner')\n",
    "\n",
    "# add category columns\n",
    "client_base = client_base.merge(products_order_per_cat, on='client_id', how='inner')\n"
   ]
  },
  {
   "cell_type": "code",
   "execution_count": 18,
   "id": "e13592e1",
   "metadata": {
    "ExecuteTime": {
     "end_time": "2022-03-25T15:45:28.761479Z",
     "start_time": "2022-03-25T15:45:23.893126Z"
    }
   },
   "outputs": [
    {
     "name": "stdout",
     "output_type": "stream",
     "text": [
      "final file memory : 36.64 MB\n",
      "memory saved : 42.78%\n"
     ]
    }
   ],
   "source": [
    "############################################################\n",
    "#  reduce size of the dataframe and save it for modelling  #\n",
    "############################################################\n",
    "\n",
    "X = df_optimized(client_base)\n",
    "X.to_csv(os.path.join(path,'X_full.csv'), index=False)"
   ]
  },
  {
   "cell_type": "markdown",
   "id": "4ea1eaea",
   "metadata": {},
   "source": [
    "# Checks"
   ]
  },
  {
   "cell_type": "markdown",
   "id": "05acfc57",
   "metadata": {},
   "source": [
    "## check with client number"
   ]
  },
  {
   "cell_type": "code",
   "execution_count": 19,
   "id": "c22b419d",
   "metadata": {
    "ExecuteTime": {
     "end_time": "2022-03-25T15:45:28.822900Z",
     "start_time": "2022-03-25T15:45:28.763621Z"
    }
   },
   "outputs": [
    {
     "data": {
      "text/html": [
       "<div>\n",
       "<style scoped>\n",
       "    .dataframe tbody tr th:only-of-type {\n",
       "        vertical-align: middle;\n",
       "    }\n",
       "\n",
       "    .dataframe tbody tr th {\n",
       "        vertical-align: top;\n",
       "    }\n",
       "\n",
       "    .dataframe thead th {\n",
       "        text-align: right;\n",
       "    }\n",
       "</style>\n",
       "<table border=\"1\" class=\"dataframe\">\n",
       "  <thead>\n",
       "    <tr style=\"text-align: right;\">\n",
       "      <th></th>\n",
       "      <th>ticket_id</th>\n",
       "      <th>product_id</th>\n",
       "      <th>store_id</th>\n",
       "      <th>client_id</th>\n",
       "      <th>date</th>\n",
       "      <th>hour</th>\n",
       "      <th>n_products</th>\n",
       "      <th>price_ttc</th>\n",
       "      <th>DoW</th>\n",
       "      <th>year_month</th>\n",
       "      <th>hour_cat</th>\n",
       "      <th>product_cat</th>\n",
       "    </tr>\n",
       "  </thead>\n",
       "  <tbody>\n",
       "    <tr>\n",
       "      <th>0</th>\n",
       "      <td>1813374</td>\n",
       "      <td>411254</td>\n",
       "      <td>51</td>\n",
       "      <td>0</td>\n",
       "      <td>2019-10-18</td>\n",
       "      <td>10</td>\n",
       "      <td>11</td>\n",
       "      <td>48.730000</td>\n",
       "      <td>vendredi</td>\n",
       "      <td>2019-10</td>\n",
       "      <td>matin</td>\n",
       "      <td>Plomberie</td>\n",
       "    </tr>\n",
       "    <tr>\n",
       "      <th>1</th>\n",
       "      <td>2424830</td>\n",
       "      <td>443448</td>\n",
       "      <td>62</td>\n",
       "      <td>0</td>\n",
       "      <td>2019-04-01</td>\n",
       "      <td>12</td>\n",
       "      <td>2</td>\n",
       "      <td>267.040009</td>\n",
       "      <td>lundi</td>\n",
       "      <td>2019-04</td>\n",
       "      <td>midi</td>\n",
       "      <td>Salle de bains</td>\n",
       "    </tr>\n",
       "    <tr>\n",
       "      <th>2</th>\n",
       "      <td>2424830</td>\n",
       "      <td>443496</td>\n",
       "      <td>62</td>\n",
       "      <td>0</td>\n",
       "      <td>2019-04-01</td>\n",
       "      <td>12</td>\n",
       "      <td>2</td>\n",
       "      <td>142.199997</td>\n",
       "      <td>lundi</td>\n",
       "      <td>2019-04</td>\n",
       "      <td>midi</td>\n",
       "      <td>Salle de bains</td>\n",
       "    </tr>\n",
       "    <tr>\n",
       "      <th>3</th>\n",
       "      <td>2424830</td>\n",
       "      <td>178185</td>\n",
       "      <td>62</td>\n",
       "      <td>0</td>\n",
       "      <td>2019-04-01</td>\n",
       "      <td>12</td>\n",
       "      <td>1</td>\n",
       "      <td>15.270000</td>\n",
       "      <td>lundi</td>\n",
       "      <td>2019-04</td>\n",
       "      <td>midi</td>\n",
       "      <td>Outils</td>\n",
       "    </tr>\n",
       "    <tr>\n",
       "      <th>4</th>\n",
       "      <td>2424830</td>\n",
       "      <td>71501</td>\n",
       "      <td>62</td>\n",
       "      <td>0</td>\n",
       "      <td>2019-04-01</td>\n",
       "      <td>12</td>\n",
       "      <td>1</td>\n",
       "      <td>15.290000</td>\n",
       "      <td>lundi</td>\n",
       "      <td>2019-04</td>\n",
       "      <td>midi</td>\n",
       "      <td>Quincaillerie</td>\n",
       "    </tr>\n",
       "    <tr>\n",
       "      <th>...</th>\n",
       "      <td>...</td>\n",
       "      <td>...</td>\n",
       "      <td>...</td>\n",
       "      <td>...</td>\n",
       "      <td>...</td>\n",
       "      <td>...</td>\n",
       "      <td>...</td>\n",
       "      <td>...</td>\n",
       "      <td>...</td>\n",
       "      <td>...</td>\n",
       "      <td>...</td>\n",
       "      <td>...</td>\n",
       "    </tr>\n",
       "    <tr>\n",
       "      <th>237</th>\n",
       "      <td>5848177</td>\n",
       "      <td>671191</td>\n",
       "      <td>62</td>\n",
       "      <td>0</td>\n",
       "      <td>2020-04-02</td>\n",
       "      <td>13</td>\n",
       "      <td>1</td>\n",
       "      <td>3.570000</td>\n",
       "      <td>jeudi</td>\n",
       "      <td>2020-04</td>\n",
       "      <td>midi</td>\n",
       "      <td>Matériaux de construction</td>\n",
       "    </tr>\n",
       "    <tr>\n",
       "      <th>73</th>\n",
       "      <td>5848177</td>\n",
       "      <td>812727</td>\n",
       "      <td>62</td>\n",
       "      <td>0</td>\n",
       "      <td>2020-04-02</td>\n",
       "      <td>13</td>\n",
       "      <td>4</td>\n",
       "      <td>57.279999</td>\n",
       "      <td>jeudi</td>\n",
       "      <td>2020-04</td>\n",
       "      <td>midi</td>\n",
       "      <td>Jardin</td>\n",
       "    </tr>\n",
       "    <tr>\n",
       "      <th>238</th>\n",
       "      <td>5848177</td>\n",
       "      <td>641276</td>\n",
       "      <td>62</td>\n",
       "      <td>0</td>\n",
       "      <td>2020-04-02</td>\n",
       "      <td>13</td>\n",
       "      <td>1</td>\n",
       "      <td>1.920000</td>\n",
       "      <td>jeudi</td>\n",
       "      <td>2020-04</td>\n",
       "      <td>midi</td>\n",
       "      <td>Droguerie</td>\n",
       "    </tr>\n",
       "    <tr>\n",
       "      <th>239</th>\n",
       "      <td>5848816</td>\n",
       "      <td>8</td>\n",
       "      <td>62</td>\n",
       "      <td>0</td>\n",
       "      <td>2018-10-29</td>\n",
       "      <td>8</td>\n",
       "      <td>1</td>\n",
       "      <td>5.070000</td>\n",
       "      <td>lundi</td>\n",
       "      <td>2018-10</td>\n",
       "      <td>matin</td>\n",
       "      <td>Autres</td>\n",
       "    </tr>\n",
       "    <tr>\n",
       "      <th>240</th>\n",
       "      <td>5848816</td>\n",
       "      <td>191977</td>\n",
       "      <td>62</td>\n",
       "      <td>0</td>\n",
       "      <td>2018-10-29</td>\n",
       "      <td>8</td>\n",
       "      <td>1</td>\n",
       "      <td>6.220000</td>\n",
       "      <td>lundi</td>\n",
       "      <td>2018-10</td>\n",
       "      <td>matin</td>\n",
       "      <td>Outils</td>\n",
       "    </tr>\n",
       "  </tbody>\n",
       "</table>\n",
       "<p>241 rows × 12 columns</p>\n",
       "</div>"
      ],
      "text/plain": [
       "     ticket_id  product_id  store_id  client_id       date  hour  n_products  \\\n",
       "0      1813374      411254        51          0 2019-10-18    10          11   \n",
       "1      2424830      443448        62          0 2019-04-01    12           2   \n",
       "2      2424830      443496        62          0 2019-04-01    12           2   \n",
       "3      2424830      178185        62          0 2019-04-01    12           1   \n",
       "4      2424830       71501        62          0 2019-04-01    12           1   \n",
       "..         ...         ...       ...        ...        ...   ...         ...   \n",
       "237    5848177      671191        62          0 2020-04-02    13           1   \n",
       "73     5848177      812727        62          0 2020-04-02    13           4   \n",
       "238    5848177      641276        62          0 2020-04-02    13           1   \n",
       "239    5848816           8        62          0 2018-10-29     8           1   \n",
       "240    5848816      191977        62          0 2018-10-29     8           1   \n",
       "\n",
       "      price_ttc       DoW year_month hour_cat                product_cat  \n",
       "0     48.730000  vendredi    2019-10    matin                  Plomberie  \n",
       "1    267.040009     lundi    2019-04     midi             Salle de bains  \n",
       "2    142.199997     lundi    2019-04     midi             Salle de bains  \n",
       "3     15.270000     lundi    2019-04     midi                     Outils  \n",
       "4     15.290000     lundi    2019-04     midi              Quincaillerie  \n",
       "..          ...       ...        ...      ...                        ...  \n",
       "237    3.570000     jeudi    2020-04     midi  Matériaux de construction  \n",
       "73    57.279999     jeudi    2020-04     midi                     Jardin  \n",
       "238    1.920000     jeudi    2020-04     midi                  Droguerie  \n",
       "239    5.070000     lundi    2018-10    matin                     Autres  \n",
       "240    6.220000     lundi    2018-10    matin                     Outils  \n",
       "\n",
       "[241 rows x 12 columns]"
      ]
     },
     "execution_count": 19,
     "metadata": {},
     "output_type": "execute_result"
    }
   ],
   "source": [
    "test = transactions[transactions['client_id']==0].sort_values(by='ticket_id')\n",
    "test.merge(products, on='product_id').sort_values(by='ticket_id')"
   ]
  },
  {
   "cell_type": "markdown",
   "id": "c91b70a1",
   "metadata": {},
   "source": [
    "## check with transac number"
   ]
  },
  {
   "cell_type": "code",
   "execution_count": 20,
   "id": "dfd954ad",
   "metadata": {
    "ExecuteTime": {
     "end_time": "2022-03-25T15:45:28.930700Z",
     "start_time": "2022-03-25T15:45:28.826356Z"
    }
   },
   "outputs": [
    {
     "data": {
      "text/html": [
       "<div>\n",
       "<style scoped>\n",
       "    .dataframe tbody tr th:only-of-type {\n",
       "        vertical-align: middle;\n",
       "    }\n",
       "\n",
       "    .dataframe tbody tr th {\n",
       "        vertical-align: top;\n",
       "    }\n",
       "\n",
       "    .dataframe thead th {\n",
       "        text-align: right;\n",
       "    }\n",
       "</style>\n",
       "<table border=\"1\" class=\"dataframe\">\n",
       "  <thead>\n",
       "    <tr style=\"text-align: right;\">\n",
       "      <th></th>\n",
       "      <th>ticket_id</th>\n",
       "      <th>product_id</th>\n",
       "      <th>store_id</th>\n",
       "      <th>client_id</th>\n",
       "      <th>date</th>\n",
       "      <th>hour</th>\n",
       "      <th>n_products</th>\n",
       "      <th>price_ttc</th>\n",
       "      <th>DoW</th>\n",
       "      <th>year_month</th>\n",
       "      <th>hour_cat</th>\n",
       "    </tr>\n",
       "  </thead>\n",
       "  <tbody>\n",
       "    <tr>\n",
       "      <th>6436193</th>\n",
       "      <td>5882797</td>\n",
       "      <td>823904</td>\n",
       "      <td>255</td>\n",
       "      <td>1471152</td>\n",
       "      <td>2019-05-29</td>\n",
       "      <td>14</td>\n",
       "      <td>12</td>\n",
       "      <td>22.920000</td>\n",
       "      <td>mercredi</td>\n",
       "      <td>2019-05</td>\n",
       "      <td>midi</td>\n",
       "    </tr>\n",
       "    <tr>\n",
       "      <th>6436213</th>\n",
       "      <td>5882797</td>\n",
       "      <td>828656</td>\n",
       "      <td>255</td>\n",
       "      <td>1471152</td>\n",
       "      <td>2019-05-29</td>\n",
       "      <td>14</td>\n",
       "      <td>6</td>\n",
       "      <td>47.040001</td>\n",
       "      <td>mercredi</td>\n",
       "      <td>2019-05</td>\n",
       "      <td>midi</td>\n",
       "    </tr>\n",
       "    <tr>\n",
       "      <th>6436220</th>\n",
       "      <td>5882797</td>\n",
       "      <td>828698</td>\n",
       "      <td>255</td>\n",
       "      <td>1471152</td>\n",
       "      <td>2019-05-29</td>\n",
       "      <td>14</td>\n",
       "      <td>7</td>\n",
       "      <td>20.860001</td>\n",
       "      <td>mercredi</td>\n",
       "      <td>2019-05</td>\n",
       "      <td>midi</td>\n",
       "    </tr>\n",
       "    <tr>\n",
       "      <th>6436228</th>\n",
       "      <td>5882797</td>\n",
       "      <td>861298</td>\n",
       "      <td>255</td>\n",
       "      <td>1471152</td>\n",
       "      <td>2019-05-29</td>\n",
       "      <td>14</td>\n",
       "      <td>81</td>\n",
       "      <td>85.860001</td>\n",
       "      <td>mercredi</td>\n",
       "      <td>2019-05</td>\n",
       "      <td>midi</td>\n",
       "    </tr>\n",
       "    <tr>\n",
       "      <th>6440977</th>\n",
       "      <td>5882797</td>\n",
       "      <td>861312</td>\n",
       "      <td>255</td>\n",
       "      <td>1471152</td>\n",
       "      <td>2019-05-29</td>\n",
       "      <td>14</td>\n",
       "      <td>7</td>\n",
       "      <td>57.330002</td>\n",
       "      <td>mercredi</td>\n",
       "      <td>2019-05</td>\n",
       "      <td>midi</td>\n",
       "    </tr>\n",
       "    <tr>\n",
       "      <th>6447519</th>\n",
       "      <td>5882797</td>\n",
       "      <td>82534</td>\n",
       "      <td>255</td>\n",
       "      <td>1471152</td>\n",
       "      <td>2019-05-29</td>\n",
       "      <td>14</td>\n",
       "      <td>2</td>\n",
       "      <td>18.059999</td>\n",
       "      <td>mercredi</td>\n",
       "      <td>2019-05</td>\n",
       "      <td>midi</td>\n",
       "    </tr>\n",
       "    <tr>\n",
       "      <th>6449351</th>\n",
       "      <td>5882797</td>\n",
       "      <td>823905</td>\n",
       "      <td>255</td>\n",
       "      <td>1471152</td>\n",
       "      <td>2019-05-29</td>\n",
       "      <td>14</td>\n",
       "      <td>7</td>\n",
       "      <td>34.650002</td>\n",
       "      <td>mercredi</td>\n",
       "      <td>2019-05</td>\n",
       "      <td>midi</td>\n",
       "    </tr>\n",
       "    <tr>\n",
       "      <th>6449352</th>\n",
       "      <td>5882797</td>\n",
       "      <td>824015</td>\n",
       "      <td>255</td>\n",
       "      <td>1471152</td>\n",
       "      <td>2019-05-29</td>\n",
       "      <td>14</td>\n",
       "      <td>11</td>\n",
       "      <td>81.510002</td>\n",
       "      <td>mercredi</td>\n",
       "      <td>2019-05</td>\n",
       "      <td>midi</td>\n",
       "    </tr>\n",
       "  </tbody>\n",
       "</table>\n",
       "</div>"
      ],
      "text/plain": [
       "         ticket_id  product_id  store_id  client_id       date  hour  \\\n",
       "6436193    5882797      823904       255    1471152 2019-05-29    14   \n",
       "6436213    5882797      828656       255    1471152 2019-05-29    14   \n",
       "6436220    5882797      828698       255    1471152 2019-05-29    14   \n",
       "6436228    5882797      861298       255    1471152 2019-05-29    14   \n",
       "6440977    5882797      861312       255    1471152 2019-05-29    14   \n",
       "6447519    5882797       82534       255    1471152 2019-05-29    14   \n",
       "6449351    5882797      823905       255    1471152 2019-05-29    14   \n",
       "6449352    5882797      824015       255    1471152 2019-05-29    14   \n",
       "\n",
       "         n_products  price_ttc       DoW year_month hour_cat  \n",
       "6436193          12  22.920000  mercredi    2019-05     midi  \n",
       "6436213           6  47.040001  mercredi    2019-05     midi  \n",
       "6436220           7  20.860001  mercredi    2019-05     midi  \n",
       "6436228          81  85.860001  mercredi    2019-05     midi  \n",
       "6440977           7  57.330002  mercredi    2019-05     midi  \n",
       "6447519           2  18.059999  mercredi    2019-05     midi  \n",
       "6449351           7  34.650002  mercredi    2019-05     midi  \n",
       "6449352          11  81.510002  mercredi    2019-05     midi  "
      ]
     },
     "execution_count": 20,
     "metadata": {},
     "output_type": "execute_result"
    }
   ],
   "source": [
    "transactions[transactions['ticket_id']==5882797]"
   ]
  }
 ],
 "metadata": {
  "kernelspec": {
   "display_name": "Python 3 (ipykernel)",
   "language": "python",
   "name": "python3"
  },
  "language_info": {
   "codemirror_mode": {
    "name": "ipython",
    "version": 3
   },
   "file_extension": ".py",
   "mimetype": "text/x-python",
   "name": "python",
   "nbconvert_exporter": "python",
   "pygments_lexer": "ipython3",
   "version": "3.8.6"
  },
  "toc": {
   "base_numbering": 1,
   "nav_menu": {},
   "number_sections": true,
   "sideBar": true,
   "skip_h1_title": false,
   "title_cell": "Table of Contents",
   "title_sidebar": "Contents",
   "toc_cell": false,
   "toc_position": {},
   "toc_section_display": true,
   "toc_window_display": true
  },
  "varInspector": {
   "cols": {
    "lenName": 16,
    "lenType": 16,
    "lenVar": 40
   },
   "kernels_config": {
    "python": {
     "delete_cmd_postfix": "",
     "delete_cmd_prefix": "del ",
     "library": "var_list.py",
     "varRefreshCmd": "print(var_dic_list())"
    },
    "r": {
     "delete_cmd_postfix": ") ",
     "delete_cmd_prefix": "rm(",
     "library": "var_list.r",
     "varRefreshCmd": "cat(var_dic_list()) "
    }
   },
   "types_to_exclude": [
    "module",
    "function",
    "builtin_function_or_method",
    "instance",
    "_Feature"
   ],
   "window_display": false
  }
 },
 "nbformat": 4,
 "nbformat_minor": 5
}
